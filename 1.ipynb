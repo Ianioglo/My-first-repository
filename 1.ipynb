{
 "cells": [
  {
   "cell_type": "markdown",
   "id": "38580859-594f-41f8-a388-963e27232515",
   "metadata": {},
   "source": [
    "hallo world"
   ]
  },
  {
   "cell_type": "code",
   "execution_count": 8,
   "id": "78846ccd-4362-48dd-9f19-890719b88c4b",
   "metadata": {},
   "outputs": [
    {
     "name": "stdout",
     "output_type": "stream",
     "text": [
      "hallo world\n"
     ]
    }
   ],
   "source": [
    "print(\"hallo world\")"
   ]
  },
  {
   "cell_type": "markdown",
   "id": "f97e6428-216e-4960-9b7c-3053145880cd",
   "metadata": {},
   "source": [
    "print(\"hallo world\")"
   ]
  },
  {
   "cell_type": "code",
   "execution_count": 9,
   "id": "a7bcfb19-5962-49e2-a720-573cd6624453",
   "metadata": {},
   "outputs": [
    {
     "name": "stdout",
     "output_type": "stream",
     "text": [
      "3\n"
     ]
    }
   ],
   "source": [
    "one = 1\n",
    "two = 2\n",
    "print(one + two)"
   ]
  },
  {
   "cell_type": "code",
   "execution_count": 10,
   "id": "86ac8f2d-cbc4-4963-951c-12611cce1dc6",
   "metadata": {},
   "outputs": [
    {
     "name": "stdout",
     "output_type": "stream",
     "text": [
      "14\n"
     ]
    }
   ],
   "source": [
    "one = 5\n",
    "two = 9\n",
    "print(one + two)"
   ]
  },
  {
   "cell_type": "code",
   "execution_count": 11,
   "id": "6415d42f-564e-4770-a0e7-0a33acb300a0",
   "metadata": {},
   "outputs": [
    {
     "name": "stdout",
     "output_type": "stream",
     "text": [
      "14\n"
     ]
    }
   ],
   "source": [
    "one = 5\n",
    "two = 9\n",
    "print(one + two)"
   ]
  },
  {
   "cell_type": "markdown",
   "id": "e5d43074-eafb-45d5-ba35-42a05cd814ab",
   "metadata": {},
   "source": [
    "## how to create a graph\n",
    "this manual helps the user to create a graph\n"
   ]
  },
  {
   "cell_type": "code",
   "execution_count": null,
   "id": "1a345086-a058-46c9-8fd6-e6b3c789776f",
   "metadata": {},
   "outputs": [],
   "source": []
  }
 ],
 "metadata": {
  "kernelspec": {
   "display_name": "Python",
   "language": "python",
   "name": "conda-env-python-py"
  },
  "language_info": {
   "codemirror_mode": {
    "name": "ipython",
    "version": 3
   },
   "file_extension": ".py",
   "mimetype": "text/x-python",
   "name": "python",
   "nbconvert_exporter": "python",
   "pygments_lexer": "ipython3",
   "version": "3.6.13"
  },
  "toc-autonumbering": false,
  "toc-showmarkdowntxt": true
 },
 "nbformat": 4,
 "nbformat_minor": 5
}
